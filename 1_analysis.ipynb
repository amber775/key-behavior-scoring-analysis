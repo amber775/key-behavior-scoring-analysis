{
 "cells": [
  {
   "cell_type": "code",
   "execution_count": 36,
   "id": "dfb0f0ad",
   "metadata": {},
   "outputs": [],
   "source": [
    "# 导入常用库\n",
    "import pandas as pd                      # 数据处理主力军\n",
    "import numpy as np                       # 数学计算 + 缺失值处理\n",
    "import matplotlib.pyplot as plt          # 可视化\n",
    "import seaborn as sns                    # 更美观的可视化\n",
    "\n",
    "# 设置图表风格\n",
    "sns.set(style=\"whitegrid\")               # 让图表背景更清爽\n",
    "plt.rcParams['font.size'] = 12           # 设置默认字体大小\n",
    "plt.rcParams['figure.figsize'] = (10, 6) # 设置图表默认大小\n",
    "\n",
    "# 设置 Pandas 显示参数\n",
    "pd.set_option('display.max_columns', 100)       # 最多显示 100 列（避免列被省略）\n",
    "pd.set_option('display.max_rows', 100)          # 最多显示 100 行（避免行被省略）\n",
    "pd.set_option('display.max_colwidth', 200)      # 每列最多显示 200 个字符（防止文本被截断）\n",
    "pd.set_option('display.float_format', '{:.2f}'.format)  # 浮点数显示为 2 位小数"
   ]
  },
  {
   "cell_type": "code",
   "execution_count": 48,
   "id": "7ce3fed6",
   "metadata": {},
   "outputs": [],
   "source": [
    "# 设置支持中文的字体（如微软雅黑、SimHei等）\n",
    "plt.rcParams['font.sans-serif'] = ['Microsoft YaHei', 'SimHei']\n",
    "plt.rcParams['axes.unicode_minus'] = False  # 解决负号显示问题\n"
   ]
  },
  {
   "cell_type": "markdown",
   "id": "2dccb2f9",
   "metadata": {},
   "source": [
    "### 识别关键指标"
   ]
  },
  {
   "cell_type": "code",
   "execution_count": 49,
   "id": "18ec3389",
   "metadata": {},
   "outputs": [
    {
     "data": {
      "text/html": [
       "<div>\n",
       "<style scoped>\n",
       "    .dataframe tbody tr th:only-of-type {\n",
       "        vertical-align: middle;\n",
       "    }\n",
       "\n",
       "    .dataframe tbody tr th {\n",
       "        vertical-align: top;\n",
       "    }\n",
       "\n",
       "    .dataframe thead th {\n",
       "        text-align: right;\n",
       "    }\n",
       "</style>\n",
       "<table border=\"1\" class=\"dataframe\">\n",
       "  <thead>\n",
       "    <tr style=\"text-align: right;\">\n",
       "      <th></th>\n",
       "      <th>key_action</th>\n",
       "      <th>key_action_cnt</th>\n",
       "      <th>retention_rate</th>\n",
       "    </tr>\n",
       "  </thead>\n",
       "  <tbody>\n",
       "    <tr>\n",
       "      <th>0</th>\n",
       "      <td>收藏</td>\n",
       "      <td>1</td>\n",
       "      <td>0.00</td>\n",
       "    </tr>\n",
       "    <tr>\n",
       "      <th>1</th>\n",
       "      <td>收藏</td>\n",
       "      <td>2</td>\n",
       "      <td>0.03</td>\n",
       "    </tr>\n",
       "    <tr>\n",
       "      <th>2</th>\n",
       "      <td>收藏</td>\n",
       "      <td>3</td>\n",
       "      <td>0.03</td>\n",
       "    </tr>\n",
       "    <tr>\n",
       "      <th>3</th>\n",
       "      <td>收藏</td>\n",
       "      <td>4</td>\n",
       "      <td>0.03</td>\n",
       "    </tr>\n",
       "    <tr>\n",
       "      <th>4</th>\n",
       "      <td>收藏</td>\n",
       "      <td>5</td>\n",
       "      <td>0.15</td>\n",
       "    </tr>\n",
       "  </tbody>\n",
       "</table>\n",
       "</div>"
      ],
      "text/plain": [
       "  key_action  key_action_cnt  retention_rate\n",
       "0         收藏               1            0.00\n",
       "1         收藏               2            0.03\n",
       "2         收藏               3            0.03\n",
       "3         收藏               4            0.03\n",
       "4         收藏               5            0.15"
      ]
     },
     "execution_count": 49,
     "metadata": {},
     "output_type": "execute_result"
    }
   ],
   "source": [
    "df_key = pd.read_excel('key_action.xlsx')\n",
    "df_key.head()"
   ]
  },
  {
   "cell_type": "code",
   "execution_count": 50,
   "id": "83160c32",
   "metadata": {},
   "outputs": [
    {
     "data": {
      "text/plain": [
       "['收藏', '分享', '更换模板', '消息互动']"
      ]
     },
     "execution_count": 50,
     "metadata": {},
     "output_type": "execute_result"
    }
   ],
   "source": [
    "df_key['key_action'].unique().tolist()"
   ]
  },
  {
   "cell_type": "code",
   "execution_count": 51,
   "id": "701c7c43",
   "metadata": {},
   "outputs": [],
   "source": [
    "collection_cnt = df_key[df_key['key_action'] == '收藏']\n",
    "share_cnt = df_key[df_key['key_action'] == '分享']\n",
    "template_cnt = df_key[df_key['key_action'] == '更换模板']\n",
    "message_cnt = df_key[df_key['key_action'] == '消息互动']"
   ]
  },
  {
   "cell_type": "code",
   "execution_count": 52,
   "id": "192a077c",
   "metadata": {},
   "outputs": [
    {
     "name": "stdout",
     "output_type": "stream",
     "text": [
      "                key_action_cnt  retention_rate\n",
      "key_action_cnt            1.00            0.81\n",
      "retention_rate            0.81            1.00\n"
     ]
    }
   ],
   "source": [
    "corr1 = collection_cnt[['key_action_cnt','retention_rate']].corr()\n",
    "print(corr1)"
   ]
  },
  {
   "cell_type": "code",
   "execution_count": 53,
   "id": "73c1fbb5",
   "metadata": {},
   "outputs": [
    {
     "name": "stdout",
     "output_type": "stream",
     "text": [
      "                key_action_cnt  retention_rate\n",
      "key_action_cnt            1.00            0.93\n",
      "retention_rate            0.93            1.00\n"
     ]
    }
   ],
   "source": [
    "corr2 = share_cnt[['key_action_cnt','retention_rate']].corr()\n",
    "print(corr2)"
   ]
  },
  {
   "cell_type": "code",
   "execution_count": 54,
   "id": "dce08864",
   "metadata": {},
   "outputs": [
    {
     "name": "stdout",
     "output_type": "stream",
     "text": [
      "                key_action_cnt  retention_rate\n",
      "key_action_cnt            1.00            0.86\n",
      "retention_rate            0.86            1.00\n"
     ]
    }
   ],
   "source": [
    "corr3 = template_cnt[['key_action_cnt','retention_rate']].corr()\n",
    "print(corr3)"
   ]
  },
  {
   "cell_type": "code",
   "execution_count": 55,
   "id": "88dd8c66",
   "metadata": {},
   "outputs": [
    {
     "name": "stdout",
     "output_type": "stream",
     "text": [
      "                key_action_cnt  retention_rate\n",
      "key_action_cnt            1.00            0.54\n",
      "retention_rate            0.54            1.00\n"
     ]
    }
   ],
   "source": [
    "corr4 = message_cnt[['key_action_cnt','retention_rate']].corr()\n",
    "print(corr4)"
   ]
  },
  {
   "cell_type": "code",
   "execution_count": 56,
   "id": "55791f81",
   "metadata": {},
   "outputs": [],
   "source": [
    "# corr>0.8 与留存率相关性较大的指标：收藏、分享、更换模板\n",
    "key_action = ['收藏', '分享', '更换模板']"
   ]
  },
  {
   "cell_type": "code",
   "execution_count": 59,
   "id": "a2181d3e",
   "metadata": {},
   "outputs": [
    {
     "data": {
      "text/plain": [
       "<matplotlib.lines.Line2D at 0x2175f891dc0>"
      ]
     },
     "execution_count": 59,
     "metadata": {},
     "output_type": "execute_result"
    },
    {
     "data": {
      "image/png": "[encoded data removed]",
      "text/plain": [
       "<Figure size 1500x500 with 3 Axes>"
      ]
     },
     "metadata": {},
     "output_type": "display_data"
    }
   ],
   "source": [
    "fig,ax = plt.subplots(1,3,figsize=(15,5))\n",
    "for i, key in enumerate(key_action):\n",
    "    df_plot = df_key[df_key['key_action'] == key]\n",
    "    df_plot.plot(kind='line',x='key_action_cnt',y='retention_rate',ax=ax[i],title=key)\n",
    "\n",
    "ax[0].axvline(x=9,ls='--')\n",
    "ax[1].axvline(x=5,ls='--')\n",
    "ax[2].axvline(x=5,ls='--')"
   ]
  },
  {
   "cell_type": "markdown",
   "id": "88391b85",
   "metadata": {},
   "source": [
    "### 确定关键行为标准\n",
    "收藏数为9，分享数为5，更换模板数为5"
   ]
  },
  {
   "cell_type": "markdown",
   "id": "e6736eec",
   "metadata": {},
   "source": [
    "## 层次分析法\n",
    "由于原有资料的权重打分表不确定评判标准，虽然它符合AHP的判断矩阵：  \n",
    "对角线都是 1  \n",
    "成对互反关系（A vs B = 2，B vs A = 0.5）  \n",
    "值分布合理（1/5 到 5 的区间）  \n",
    "最终执行了一致性检验 CR < 0.1\n",
    "\n",
    "但是它的使用时长占权重最高，而广告展示次数最具相关性，和真实业务略有差异，并没有考虑到启动次数多、广告也多的情况\n",
    "\n",
    "所以此处使用数据驱动+回归分析确定相关性矩阵"
   ]
  },
  {
   "cell_type": "markdown",
   "id": "a2df74a5",
   "metadata": {},
   "source": [
    "### ❌原权重打分表分析"
   ]
  },
  {
   "cell_type": "code",
   "execution_count": 139,
   "id": "a8d08395",
   "metadata": {},
   "outputs": [
    {
     "data": {
      "text/html": [
       "<div>\n",
       "<style scoped>\n",
       "    .dataframe tbody tr th:only-of-type {\n",
       "        vertical-align: middle;\n",
       "    }\n",
       "\n",
       "    .dataframe tbody tr th {\n",
       "        vertical-align: top;\n",
       "    }\n",
       "\n",
       "    .dataframe thead th {\n",
       "        text-align: right;\n",
       "    }\n",
       "</style>\n",
       "<table border=\"1\" class=\"dataframe\">\n",
       "  <thead>\n",
       "    <tr style=\"text-align: right;\">\n",
       "      <th></th>\n",
       "      <th>launch_cnt</th>\n",
       "      <th>PV</th>\n",
       "      <th>ad_show_cnt</th>\n",
       "      <th>duration</th>\n",
       "    </tr>\n",
       "    <tr>\n",
       "      <th>Z</th>\n",
       "      <th></th>\n",
       "      <th></th>\n",
       "      <th></th>\n",
       "      <th></th>\n",
       "    </tr>\n",
       "  </thead>\n",
       "  <tbody>\n",
       "    <tr>\n",
       "      <th>launch_cnt</th>\n",
       "      <td>1</td>\n",
       "      <td>0.50</td>\n",
       "      <td>0.33</td>\n",
       "      <td>0.20</td>\n",
       "    </tr>\n",
       "    <tr>\n",
       "      <th>PV</th>\n",
       "      <td>2</td>\n",
       "      <td>1.00</td>\n",
       "      <td>0.50</td>\n",
       "      <td>0.25</td>\n",
       "    </tr>\n",
       "    <tr>\n",
       "      <th>ad_show_cnt</th>\n",
       "      <td>3</td>\n",
       "      <td>2.00</td>\n",
       "      <td>1.00</td>\n",
       "      <td>0.33</td>\n",
       "    </tr>\n",
       "    <tr>\n",
       "      <th>duration</th>\n",
       "      <td>5</td>\n",
       "      <td>4.00</td>\n",
       "      <td>3.00</td>\n",
       "      <td>1.00</td>\n",
       "    </tr>\n",
       "  </tbody>\n",
       "</table>\n",
       "</div>"
      ],
      "text/plain": [
       "             launch_cnt   PV  ad_show_cnt  duration\n",
       "Z                                                  \n",
       "launch_cnt            1 0.50         0.33      0.20\n",
       "PV                    2 1.00         0.50      0.25\n",
       "ad_show_cnt           3 2.00         1.00      0.33\n",
       "duration              5 4.00         3.00      1.00"
      ]
     },
     "execution_count": 139,
     "metadata": {},
     "output_type": "execute_result"
    }
   ],
   "source": [
    "df_score = pd.read_excel('权重打分表.xlsx',index_col='Z')\n",
    "df_score"
   ]
  },
  {
   "cell_type": "code",
   "execution_count": null,
   "id": "70563abd",
   "metadata": {},
   "outputs": [
    {
     "name": "stdout",
     "output_type": "stream",
     "text": [
      "特征向量法权重: [0.08375196 0.13772546 0.23229999 0.54622259]\n"
     ]
    }
   ],
   "source": [
    "# 特征向量法得出权重\n",
    "# def函数直接ai出，只需要知道这个方法能科学求出权重就行）\n",
    "def eigenvector_ahp(matrix):\n",
    "    eigenvalues, eigenvectors = np.linalg.eig(matrix)\n",
    "    max_idx = np.argmax(eigenvalues)\n",
    "    weights = eigenvectors[:, max_idx].real\n",
    "    weights = weights / weights.sum()  # 归一化\n",
    "    return weights\n",
    "\n",
    "weights = eigenvector_ahp(df_score)\n",
    "print(\"特征向量法权重:\", weights)"
   ]
  }
 ],
 "metadata": {
  "kernelspec": {
   "display_name": "Python 3",
   "language": "python",
   "name": "python3"
  },
  "language_info": {
   "codemirror_mode": {
    "name": "ipython",
    "version": 3
   },
   "file_extension": ".py",
   "mimetype": "text/x-python",
   "name": "python",
   "nbconvert_exporter": "python",
   "pygments_lexer": "ipython3",
   "version": "3.9.21"
  }
 },
 "nbformat": 4,
 "nbformat_minor": 5
}
